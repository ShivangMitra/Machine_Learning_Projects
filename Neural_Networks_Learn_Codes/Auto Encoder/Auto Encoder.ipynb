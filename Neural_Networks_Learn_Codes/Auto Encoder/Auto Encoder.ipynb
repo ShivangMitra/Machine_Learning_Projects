{
 "cells": [
  {
   "cell_type": "code",
   "execution_count": 1,
   "metadata": {},
   "outputs": [],
   "source": [
    "import numpy as np\n",
    "import pandas as pd\n",
    "import torch\n",
    "import torch.nn as nn\n",
    "import torch.nn.parallel\n",
    "import torch.optim as optim\n",
    "import torch.utils.data\n",
    "from torch.autograd import Variable"
   ]
  },
  {
   "cell_type": "code",
   "execution_count": 2,
   "metadata": {},
   "outputs": [
    {
     "data": {
      "text/html": [
       "<div>\n",
       "<style scoped>\n",
       "    .dataframe tbody tr th:only-of-type {\n",
       "        vertical-align: middle;\n",
       "    }\n",
       "\n",
       "    .dataframe tbody tr th {\n",
       "        vertical-align: top;\n",
       "    }\n",
       "\n",
       "    .dataframe thead th {\n",
       "        text-align: right;\n",
       "    }\n",
       "</style>\n",
       "<table border=\"1\" class=\"dataframe\">\n",
       "  <thead>\n",
       "    <tr style=\"text-align: right;\">\n",
       "      <th></th>\n",
       "      <th>0</th>\n",
       "      <th>1</th>\n",
       "      <th>2</th>\n",
       "    </tr>\n",
       "  </thead>\n",
       "  <tbody>\n",
       "    <tr>\n",
       "      <th>0</th>\n",
       "      <td>1</td>\n",
       "      <td>Toy Story (1995)</td>\n",
       "      <td>Animation|Children's|Comedy</td>\n",
       "    </tr>\n",
       "    <tr>\n",
       "      <th>1</th>\n",
       "      <td>2</td>\n",
       "      <td>Jumanji (1995)</td>\n",
       "      <td>Adventure|Children's|Fantasy</td>\n",
       "    </tr>\n",
       "    <tr>\n",
       "      <th>2</th>\n",
       "      <td>3</td>\n",
       "      <td>Grumpier Old Men (1995)</td>\n",
       "      <td>Comedy|Romance</td>\n",
       "    </tr>\n",
       "    <tr>\n",
       "      <th>3</th>\n",
       "      <td>4</td>\n",
       "      <td>Waiting to Exhale (1995)</td>\n",
       "      <td>Comedy|Drama</td>\n",
       "    </tr>\n",
       "    <tr>\n",
       "      <th>4</th>\n",
       "      <td>5</td>\n",
       "      <td>Father of the Bride Part II (1995)</td>\n",
       "      <td>Comedy</td>\n",
       "    </tr>\n",
       "  </tbody>\n",
       "</table>\n",
       "</div>"
      ],
      "text/plain": [
       "   0                                   1                             2\n",
       "0  1                    Toy Story (1995)   Animation|Children's|Comedy\n",
       "1  2                      Jumanji (1995)  Adventure|Children's|Fantasy\n",
       "2  3             Grumpier Old Men (1995)                Comedy|Romance\n",
       "3  4            Waiting to Exhale (1995)                  Comedy|Drama\n",
       "4  5  Father of the Bride Part II (1995)                        Comedy"
      ]
     },
     "execution_count": 2,
     "metadata": {},
     "output_type": "execute_result"
    }
   ],
   "source": [
    "movies = pd.read_csv( 'ml-1m/movies.dat',\n",
    "                     sep = '::',\n",
    "                     header = None,\n",
    "                     engine = 'python',\n",
    "                     encoding = 'latin-1'\n",
    "                    )\n",
    "movies.head()"
   ]
  },
  {
   "cell_type": "code",
   "execution_count": 3,
   "metadata": {},
   "outputs": [
    {
     "data": {
      "text/html": [
       "<div>\n",
       "<style scoped>\n",
       "    .dataframe tbody tr th:only-of-type {\n",
       "        vertical-align: middle;\n",
       "    }\n",
       "\n",
       "    .dataframe tbody tr th {\n",
       "        vertical-align: top;\n",
       "    }\n",
       "\n",
       "    .dataframe thead th {\n",
       "        text-align: right;\n",
       "    }\n",
       "</style>\n",
       "<table border=\"1\" class=\"dataframe\">\n",
       "  <thead>\n",
       "    <tr style=\"text-align: right;\">\n",
       "      <th></th>\n",
       "      <th>0</th>\n",
       "      <th>1</th>\n",
       "      <th>2</th>\n",
       "      <th>3</th>\n",
       "      <th>4</th>\n",
       "    </tr>\n",
       "  </thead>\n",
       "  <tbody>\n",
       "    <tr>\n",
       "      <th>0</th>\n",
       "      <td>1</td>\n",
       "      <td>F</td>\n",
       "      <td>1</td>\n",
       "      <td>10</td>\n",
       "      <td>48067</td>\n",
       "    </tr>\n",
       "    <tr>\n",
       "      <th>1</th>\n",
       "      <td>2</td>\n",
       "      <td>M</td>\n",
       "      <td>56</td>\n",
       "      <td>16</td>\n",
       "      <td>70072</td>\n",
       "    </tr>\n",
       "    <tr>\n",
       "      <th>2</th>\n",
       "      <td>3</td>\n",
       "      <td>M</td>\n",
       "      <td>25</td>\n",
       "      <td>15</td>\n",
       "      <td>55117</td>\n",
       "    </tr>\n",
       "    <tr>\n",
       "      <th>3</th>\n",
       "      <td>4</td>\n",
       "      <td>M</td>\n",
       "      <td>45</td>\n",
       "      <td>7</td>\n",
       "      <td>02460</td>\n",
       "    </tr>\n",
       "    <tr>\n",
       "      <th>4</th>\n",
       "      <td>5</td>\n",
       "      <td>M</td>\n",
       "      <td>25</td>\n",
       "      <td>20</td>\n",
       "      <td>55455</td>\n",
       "    </tr>\n",
       "  </tbody>\n",
       "</table>\n",
       "</div>"
      ],
      "text/plain": [
       "   0  1   2   3      4\n",
       "0  1  F   1  10  48067\n",
       "1  2  M  56  16  70072\n",
       "2  3  M  25  15  55117\n",
       "3  4  M  45   7  02460\n",
       "4  5  M  25  20  55455"
      ]
     },
     "execution_count": 3,
     "metadata": {},
     "output_type": "execute_result"
    }
   ],
   "source": [
    "users = pd.read_csv( 'ml-1m/users.dat',\n",
    "                     sep = '::',\n",
    "                     header = None,\n",
    "                     engine = 'python',\n",
    "                     encoding = 'latin-1'\n",
    "                    )\n",
    "users.head()"
   ]
  },
  {
   "cell_type": "code",
   "execution_count": 4,
   "metadata": {},
   "outputs": [
    {
     "data": {
      "text/html": [
       "<div>\n",
       "<style scoped>\n",
       "    .dataframe tbody tr th:only-of-type {\n",
       "        vertical-align: middle;\n",
       "    }\n",
       "\n",
       "    .dataframe tbody tr th {\n",
       "        vertical-align: top;\n",
       "    }\n",
       "\n",
       "    .dataframe thead th {\n",
       "        text-align: right;\n",
       "    }\n",
       "</style>\n",
       "<table border=\"1\" class=\"dataframe\">\n",
       "  <thead>\n",
       "    <tr style=\"text-align: right;\">\n",
       "      <th></th>\n",
       "      <th>0</th>\n",
       "      <th>1</th>\n",
       "      <th>2</th>\n",
       "      <th>3</th>\n",
       "    </tr>\n",
       "  </thead>\n",
       "  <tbody>\n",
       "    <tr>\n",
       "      <th>0</th>\n",
       "      <td>1</td>\n",
       "      <td>1193</td>\n",
       "      <td>5</td>\n",
       "      <td>978300760</td>\n",
       "    </tr>\n",
       "    <tr>\n",
       "      <th>1</th>\n",
       "      <td>1</td>\n",
       "      <td>661</td>\n",
       "      <td>3</td>\n",
       "      <td>978302109</td>\n",
       "    </tr>\n",
       "    <tr>\n",
       "      <th>2</th>\n",
       "      <td>1</td>\n",
       "      <td>914</td>\n",
       "      <td>3</td>\n",
       "      <td>978301968</td>\n",
       "    </tr>\n",
       "    <tr>\n",
       "      <th>3</th>\n",
       "      <td>1</td>\n",
       "      <td>3408</td>\n",
       "      <td>4</td>\n",
       "      <td>978300275</td>\n",
       "    </tr>\n",
       "    <tr>\n",
       "      <th>4</th>\n",
       "      <td>1</td>\n",
       "      <td>2355</td>\n",
       "      <td>5</td>\n",
       "      <td>978824291</td>\n",
       "    </tr>\n",
       "  </tbody>\n",
       "</table>\n",
       "</div>"
      ],
      "text/plain": [
       "   0     1  2          3\n",
       "0  1  1193  5  978300760\n",
       "1  1   661  3  978302109\n",
       "2  1   914  3  978301968\n",
       "3  1  3408  4  978300275\n",
       "4  1  2355  5  978824291"
      ]
     },
     "execution_count": 4,
     "metadata": {},
     "output_type": "execute_result"
    }
   ],
   "source": [
    "ratings = pd.read_csv( 'ml-1m/ratings.dat',\n",
    "                     sep = '::',\n",
    "                     header = None,\n",
    "                     engine = 'python',\n",
    "                     encoding = 'latin-1'\n",
    "                    )\n",
    "ratings.head()"
   ]
  },
  {
   "cell_type": "code",
   "execution_count": 5,
   "metadata": {},
   "outputs": [
    {
     "data": {
      "text/html": [
       "<div>\n",
       "<style scoped>\n",
       "    .dataframe tbody tr th:only-of-type {\n",
       "        vertical-align: middle;\n",
       "    }\n",
       "\n",
       "    .dataframe tbody tr th {\n",
       "        vertical-align: top;\n",
       "    }\n",
       "\n",
       "    .dataframe thead th {\n",
       "        text-align: right;\n",
       "    }\n",
       "</style>\n",
       "<table border=\"1\" class=\"dataframe\">\n",
       "  <thead>\n",
       "    <tr style=\"text-align: right;\">\n",
       "      <th></th>\n",
       "      <th>0</th>\n",
       "      <th>1</th>\n",
       "      <th>2</th>\n",
       "      <th>3</th>\n",
       "    </tr>\n",
       "  </thead>\n",
       "  <tbody>\n",
       "    <tr>\n",
       "      <th>0</th>\n",
       "      <td>1</td>\n",
       "      <td>1</td>\n",
       "      <td>5</td>\n",
       "      <td>874965758</td>\n",
       "    </tr>\n",
       "    <tr>\n",
       "      <th>1</th>\n",
       "      <td>1</td>\n",
       "      <td>2</td>\n",
       "      <td>3</td>\n",
       "      <td>876893171</td>\n",
       "    </tr>\n",
       "    <tr>\n",
       "      <th>2</th>\n",
       "      <td>1</td>\n",
       "      <td>3</td>\n",
       "      <td>4</td>\n",
       "      <td>878542960</td>\n",
       "    </tr>\n",
       "    <tr>\n",
       "      <th>3</th>\n",
       "      <td>1</td>\n",
       "      <td>4</td>\n",
       "      <td>3</td>\n",
       "      <td>876893119</td>\n",
       "    </tr>\n",
       "    <tr>\n",
       "      <th>4</th>\n",
       "      <td>1</td>\n",
       "      <td>5</td>\n",
       "      <td>3</td>\n",
       "      <td>889751712</td>\n",
       "    </tr>\n",
       "  </tbody>\n",
       "</table>\n",
       "</div>"
      ],
      "text/plain": [
       "   0  1  2          3\n",
       "0  1  1  5  874965758\n",
       "1  1  2  3  876893171\n",
       "2  1  3  4  878542960\n",
       "3  1  4  3  876893119\n",
       "4  1  5  3  889751712"
      ]
     },
     "execution_count": 5,
     "metadata": {},
     "output_type": "execute_result"
    }
   ],
   "source": [
    "training_set = pd.read_csv( 'ml-100k/u1.base', delimiter = '\\t',  header=None )\n",
    "training_set.head()"
   ]
  },
  {
   "cell_type": "code",
   "execution_count": 6,
   "metadata": {},
   "outputs": [
    {
     "data": {
      "text/plain": [
       "(80000, 4)"
      ]
     },
     "execution_count": 6,
     "metadata": {},
     "output_type": "execute_result"
    }
   ],
   "source": [
    "training_set.shape"
   ]
  },
  {
   "cell_type": "code",
   "execution_count": 7,
   "metadata": {},
   "outputs": [
    {
     "name": "stdout",
     "output_type": "stream",
     "text": [
      "[[        1         1         5 874965758]\n",
      " [        1         2         3 876893171]\n",
      " [        1         3         4 878542960]\n",
      " ...\n",
      " [      943      1188         3 888640250]\n",
      " [      943      1228         3 888640275]\n",
      " [      943      1330         3 888692465]]\n"
     ]
    }
   ],
   "source": [
    "training_set = np.array( training_set, dtype = 'int' )\n",
    "print(training_set)"
   ]
  },
  {
   "cell_type": "code",
   "execution_count": 8,
   "metadata": {},
   "outputs": [
    {
     "data": {
      "text/html": [
       "<div>\n",
       "<style scoped>\n",
       "    .dataframe tbody tr th:only-of-type {\n",
       "        vertical-align: middle;\n",
       "    }\n",
       "\n",
       "    .dataframe tbody tr th {\n",
       "        vertical-align: top;\n",
       "    }\n",
       "\n",
       "    .dataframe thead th {\n",
       "        text-align: right;\n",
       "    }\n",
       "</style>\n",
       "<table border=\"1\" class=\"dataframe\">\n",
       "  <thead>\n",
       "    <tr style=\"text-align: right;\">\n",
       "      <th></th>\n",
       "      <th>0</th>\n",
       "      <th>1</th>\n",
       "      <th>2</th>\n",
       "      <th>3</th>\n",
       "    </tr>\n",
       "  </thead>\n",
       "  <tbody>\n",
       "    <tr>\n",
       "      <th>0</th>\n",
       "      <td>1</td>\n",
       "      <td>6</td>\n",
       "      <td>5</td>\n",
       "      <td>887431973</td>\n",
       "    </tr>\n",
       "    <tr>\n",
       "      <th>1</th>\n",
       "      <td>1</td>\n",
       "      <td>10</td>\n",
       "      <td>3</td>\n",
       "      <td>875693118</td>\n",
       "    </tr>\n",
       "    <tr>\n",
       "      <th>2</th>\n",
       "      <td>1</td>\n",
       "      <td>12</td>\n",
       "      <td>5</td>\n",
       "      <td>878542960</td>\n",
       "    </tr>\n",
       "    <tr>\n",
       "      <th>3</th>\n",
       "      <td>1</td>\n",
       "      <td>14</td>\n",
       "      <td>5</td>\n",
       "      <td>874965706</td>\n",
       "    </tr>\n",
       "    <tr>\n",
       "      <th>4</th>\n",
       "      <td>1</td>\n",
       "      <td>17</td>\n",
       "      <td>3</td>\n",
       "      <td>875073198</td>\n",
       "    </tr>\n",
       "  </tbody>\n",
       "</table>\n",
       "</div>"
      ],
      "text/plain": [
       "   0   1  2          3\n",
       "0  1   6  5  887431973\n",
       "1  1  10  3  875693118\n",
       "2  1  12  5  878542960\n",
       "3  1  14  5  874965706\n",
       "4  1  17  3  875073198"
      ]
     },
     "execution_count": 8,
     "metadata": {},
     "output_type": "execute_result"
    }
   ],
   "source": [
    "test_set = pd.read_csv( 'ml-100k/u1.test', delimiter = '\\t',  header=None )\n",
    "test_set.head()"
   ]
  },
  {
   "cell_type": "code",
   "execution_count": 9,
   "metadata": {},
   "outputs": [
    {
     "data": {
      "text/plain": [
       "(20000, 4)"
      ]
     },
     "execution_count": 9,
     "metadata": {},
     "output_type": "execute_result"
    }
   ],
   "source": [
    "test_set.shape"
   ]
  },
  {
   "cell_type": "code",
   "execution_count": 10,
   "metadata": {},
   "outputs": [
    {
     "name": "stdout",
     "output_type": "stream",
     "text": [
      "[[        1         6         5 887431973]\n",
      " [        1        10         3 875693118]\n",
      " [        1        12         5 878542960]\n",
      " ...\n",
      " [      459       934         3 879563639]\n",
      " [      460        10         3 882912371]\n",
      " [      462       682         5 886365231]]\n"
     ]
    }
   ],
   "source": [
    "test_set = np.array( test_set, dtype = 'int' )\n",
    "print(test_set)"
   ]
  },
  {
   "cell_type": "code",
   "execution_count": 11,
   "metadata": {},
   "outputs": [
    {
     "name": "stdout",
     "output_type": "stream",
     "text": [
      "943\n",
      "1682\n"
     ]
    }
   ],
   "source": [
    "nb_users = int(max( max( training_set[ :, 0 ] ), max( test_set[ :, 0 ] ) ))\n",
    "nb_movies = int(max( max( training_set[ :, 1 ] ), max( test_set[ :, 1 ] ) ))\n",
    "\n",
    "print(nb_users)\n",
    "print(nb_movies)"
   ]
  },
  {
   "cell_type": "code",
   "execution_count": 12,
   "metadata": {},
   "outputs": [],
   "source": [
    "def convert(data):\n",
    "    new_data = []\n",
    "    for id_users in range(1, nb_users + 1):\n",
    "        id_movies = data[ :, 1 ][data[ :, 0 ] == id_users]\n",
    "        id_ratings = data[ :, 2 ][data[ :, 0 ] == id_users]\n",
    "        \n",
    "        ratings = np.zeros(nb_movies)\n",
    "        ratings[id_movies - 1] = id_ratings\n",
    "        \n",
    "        new_data.append( list(ratings) )\n",
    "    \n",
    "    return new_data"
   ]
  },
  {
   "cell_type": "code",
   "execution_count": 13,
   "metadata": {},
   "outputs": [],
   "source": [
    "training_set = convert(training_set)\n",
    "test_set = convert(test_set)"
   ]
  },
  {
   "cell_type": "code",
   "execution_count": 14,
   "metadata": {},
   "outputs": [
    {
     "data": {
      "text/plain": [
       "943"
      ]
     },
     "execution_count": 14,
     "metadata": {},
     "output_type": "execute_result"
    }
   ],
   "source": [
    "len(training_set)"
   ]
  },
  {
   "cell_type": "code",
   "execution_count": 15,
   "metadata": {},
   "outputs": [
    {
     "data": {
      "text/plain": [
       "943"
      ]
     },
     "execution_count": 15,
     "metadata": {},
     "output_type": "execute_result"
    }
   ],
   "source": [
    "len(test_set)"
   ]
  },
  {
   "cell_type": "markdown",
   "metadata": {},
   "source": [
    "# Converting data into Torch tensors"
   ]
  },
  {
   "cell_type": "code",
   "execution_count": 16,
   "metadata": {},
   "outputs": [],
   "source": [
    "training_set = torch.FloatTensor( training_set )\n",
    "test_set = torch.FloatTensor( test_set )"
   ]
  },
  {
   "cell_type": "code",
   "execution_count": 17,
   "metadata": {},
   "outputs": [
    {
     "data": {
      "text/plain": [
       "torch.Tensor"
      ]
     },
     "execution_count": 17,
     "metadata": {},
     "output_type": "execute_result"
    }
   ],
   "source": [
    "type( training_set )"
   ]
  },
  {
   "cell_type": "code",
   "execution_count": 18,
   "metadata": {},
   "outputs": [
    {
     "data": {
      "text/plain": [
       "torch.Tensor"
      ]
     },
     "execution_count": 18,
     "metadata": {},
     "output_type": "execute_result"
    }
   ],
   "source": [
    "type( test_set )"
   ]
  },
  {
   "cell_type": "markdown",
   "metadata": {},
   "source": [
    "# Creating the architechture of the Neural Network"
   ]
  },
  {
   "cell_type": "code",
   "execution_count": 19,
   "metadata": {},
   "outputs": [],
   "source": [
    "class SAE(nn.Module):\n",
    "    def __init__(self, ):\n",
    "        super(SAE, self).__init__()\n",
    "        self.fc1 = nn.Linear(nb_movies, 20)\n",
    "        self.fc2 = nn.Linear(20, 10)\n",
    "        self.fc3 = nn.Linear(10, 20)\n",
    "        self.fc4 = nn.Linear(20, nb_movies)\n",
    "        self.activation = nn.Sigmoid()\n",
    "    \n",
    "    def forward(self, x):\n",
    "        x = self.activation(self.fc1(x))\n",
    "        x = self.activation(self.fc2(x))\n",
    "        x = self.activation(self.fc3(x))\n",
    "        x = self.fc4(x)\n",
    "        return x"
   ]
  },
  {
   "cell_type": "code",
   "execution_count": 20,
   "metadata": {},
   "outputs": [],
   "source": [
    "sae = SAE()"
   ]
  },
  {
   "cell_type": "code",
   "execution_count": 21,
   "metadata": {},
   "outputs": [],
   "source": [
    "criterion = nn.MSELoss()\n",
    "optimizer = optim.RMSprop(sae.parameters(), lr = 0.01, weight_decay = 0.5)"
   ]
  },
  {
   "cell_type": "markdown",
   "metadata": {},
   "source": [
    "# Training the SAE"
   ]
  },
  {
   "cell_type": "code",
   "execution_count": 22,
   "metadata": {},
   "outputs": [
    {
     "name": "stdout",
     "output_type": "stream",
     "text": [
      "epoch: 1 loss: tensor(1.7709)\n",
      "epoch: 2 loss: tensor(1.0966)\n",
      "epoch: 3 loss: tensor(1.0535)\n",
      "epoch: 4 loss: tensor(1.0382)\n",
      "epoch: 5 loss: tensor(1.0309)\n",
      "epoch: 6 loss: tensor(1.0266)\n",
      "epoch: 7 loss: tensor(1.0237)\n",
      "epoch: 8 loss: tensor(1.0219)\n",
      "epoch: 9 loss: tensor(1.0210)\n",
      "epoch: 10 loss: tensor(1.0198)\n",
      "epoch: 11 loss: tensor(1.0192)\n",
      "epoch: 12 loss: tensor(1.0183)\n",
      "epoch: 13 loss: tensor(1.0179)\n",
      "epoch: 14 loss: tensor(1.0176)\n",
      "epoch: 15 loss: tensor(1.0171)\n",
      "epoch: 16 loss: tensor(1.0170)\n",
      "epoch: 17 loss: tensor(1.0169)\n",
      "epoch: 18 loss: tensor(1.0167)\n",
      "epoch: 19 loss: tensor(1.0163)\n",
      "epoch: 20 loss: tensor(1.0161)\n",
      "epoch: 21 loss: tensor(1.0162)\n",
      "epoch: 22 loss: tensor(1.0161)\n",
      "epoch: 23 loss: tensor(1.0158)\n",
      "epoch: 24 loss: tensor(1.0160)\n",
      "epoch: 25 loss: tensor(1.0157)\n",
      "epoch: 26 loss: tensor(1.0157)\n",
      "epoch: 27 loss: tensor(1.0153)\n",
      "epoch: 28 loss: tensor(1.0152)\n",
      "epoch: 29 loss: tensor(1.0130)\n",
      "epoch: 30 loss: tensor(1.0118)\n",
      "epoch: 31 loss: tensor(1.0089)\n",
      "epoch: 32 loss: tensor(1.0083)\n",
      "epoch: 33 loss: tensor(1.0052)\n",
      "epoch: 34 loss: tensor(1.0051)\n",
      "epoch: 35 loss: tensor(1.0003)\n",
      "epoch: 36 loss: tensor(0.9986)\n",
      "epoch: 37 loss: tensor(0.9944)\n",
      "epoch: 38 loss: tensor(0.9950)\n",
      "epoch: 39 loss: tensor(0.9934)\n",
      "epoch: 40 loss: tensor(0.9953)\n",
      "epoch: 41 loss: tensor(0.9895)\n",
      "epoch: 42 loss: tensor(0.9888)\n",
      "epoch: 43 loss: tensor(0.9849)\n",
      "epoch: 44 loss: tensor(0.9849)\n",
      "epoch: 45 loss: tensor(0.9843)\n",
      "epoch: 46 loss: tensor(0.9864)\n",
      "epoch: 47 loss: tensor(0.9844)\n",
      "epoch: 48 loss: tensor(0.9809)\n",
      "epoch: 49 loss: tensor(0.9815)\n",
      "epoch: 50 loss: tensor(0.9829)\n",
      "epoch: 51 loss: tensor(0.9820)\n",
      "epoch: 52 loss: tensor(0.9846)\n",
      "epoch: 53 loss: tensor(0.9793)\n",
      "epoch: 54 loss: tensor(0.9787)\n",
      "epoch: 55 loss: tensor(0.9775)\n",
      "epoch: 56 loss: tensor(0.9805)\n",
      "epoch: 57 loss: tensor(0.9767)\n",
      "epoch: 58 loss: tensor(0.9760)\n",
      "epoch: 59 loss: tensor(0.9747)\n",
      "epoch: 60 loss: tensor(0.9722)\n",
      "epoch: 61 loss: tensor(0.9668)\n",
      "epoch: 62 loss: tensor(0.9694)\n",
      "epoch: 63 loss: tensor(0.9655)\n",
      "epoch: 64 loss: tensor(0.9659)\n",
      "epoch: 65 loss: tensor(0.9628)\n",
      "epoch: 66 loss: tensor(0.9622)\n",
      "epoch: 67 loss: tensor(0.9594)\n",
      "epoch: 68 loss: tensor(0.9595)\n",
      "epoch: 69 loss: tensor(0.9598)\n",
      "epoch: 70 loss: tensor(0.9607)\n",
      "epoch: 71 loss: tensor(0.9591)\n",
      "epoch: 72 loss: tensor(0.9578)\n",
      "epoch: 73 loss: tensor(0.9550)\n",
      "epoch: 74 loss: tensor(0.9568)\n",
      "epoch: 75 loss: tensor(0.9575)\n",
      "epoch: 76 loss: tensor(0.9575)\n",
      "epoch: 77 loss: tensor(0.9552)\n",
      "epoch: 78 loss: tensor(0.9555)\n",
      "epoch: 79 loss: tensor(0.9530)\n",
      "epoch: 80 loss: tensor(0.9535)\n",
      "epoch: 81 loss: tensor(0.9520)\n",
      "epoch: 82 loss: tensor(0.9534)\n",
      "epoch: 83 loss: tensor(0.9557)\n",
      "epoch: 84 loss: tensor(0.9505)\n",
      "epoch: 85 loss: tensor(0.9491)\n",
      "epoch: 86 loss: tensor(0.9481)\n",
      "epoch: 87 loss: tensor(0.9472)\n",
      "epoch: 88 loss: tensor(0.9497)\n",
      "epoch: 89 loss: tensor(0.9463)\n",
      "epoch: 90 loss: tensor(0.9510)\n",
      "epoch: 91 loss: tensor(0.9511)\n",
      "epoch: 92 loss: tensor(0.9518)\n",
      "epoch: 93 loss: tensor(0.9479)\n",
      "epoch: 94 loss: tensor(0.9484)\n",
      "epoch: 95 loss: tensor(0.9498)\n",
      "epoch: 96 loss: tensor(0.9487)\n",
      "epoch: 97 loss: tensor(0.9457)\n",
      "epoch: 98 loss: tensor(0.9508)\n",
      "epoch: 99 loss: tensor(0.9475)\n",
      "epoch: 100 loss: tensor(0.9480)\n",
      "epoch: 101 loss: tensor(0.9452)\n",
      "epoch: 102 loss: tensor(0.9448)\n",
      "epoch: 103 loss: tensor(0.9429)\n",
      "epoch: 104 loss: tensor(0.9497)\n",
      "epoch: 105 loss: tensor(0.9427)\n",
      "epoch: 106 loss: tensor(0.9433)\n",
      "epoch: 107 loss: tensor(0.9411)\n",
      "epoch: 108 loss: tensor(0.9418)\n",
      "epoch: 109 loss: tensor(0.9401)\n",
      "epoch: 110 loss: tensor(0.9408)\n",
      "epoch: 111 loss: tensor(0.9391)\n",
      "epoch: 112 loss: tensor(0.9404)\n",
      "epoch: 113 loss: tensor(0.9386)\n",
      "epoch: 114 loss: tensor(0.9397)\n",
      "epoch: 115 loss: tensor(0.9382)\n",
      "epoch: 116 loss: tensor(0.9394)\n",
      "epoch: 117 loss: tensor(0.9376)\n",
      "epoch: 118 loss: tensor(0.9393)\n",
      "epoch: 119 loss: tensor(0.9365)\n",
      "epoch: 120 loss: tensor(0.9380)\n",
      "epoch: 121 loss: tensor(0.9370)\n",
      "epoch: 122 loss: tensor(0.9375)\n",
      "epoch: 123 loss: tensor(0.9346)\n",
      "epoch: 124 loss: tensor(0.9356)\n",
      "epoch: 125 loss: tensor(0.9344)\n",
      "epoch: 126 loss: tensor(0.9356)\n",
      "epoch: 127 loss: tensor(0.9337)\n",
      "epoch: 128 loss: tensor(0.9347)\n",
      "epoch: 129 loss: tensor(0.9328)\n",
      "epoch: 130 loss: tensor(0.9340)\n",
      "epoch: 131 loss: tensor(0.9318)\n",
      "epoch: 132 loss: tensor(0.9329)\n",
      "epoch: 133 loss: tensor(0.9312)\n",
      "epoch: 134 loss: tensor(0.9320)\n",
      "epoch: 135 loss: tensor(0.9304)\n",
      "epoch: 136 loss: tensor(0.9311)\n",
      "epoch: 137 loss: tensor(0.9302)\n",
      "epoch: 138 loss: tensor(0.9317)\n",
      "epoch: 139 loss: tensor(0.9295)\n",
      "epoch: 140 loss: tensor(0.9297)\n",
      "epoch: 141 loss: tensor(0.9291)\n",
      "epoch: 142 loss: tensor(0.9287)\n",
      "epoch: 143 loss: tensor(0.9272)\n",
      "epoch: 144 loss: tensor(0.9279)\n",
      "epoch: 145 loss: tensor(0.9283)\n",
      "epoch: 146 loss: tensor(0.9287)\n",
      "epoch: 147 loss: tensor(0.9273)\n",
      "epoch: 148 loss: tensor(0.9280)\n",
      "epoch: 149 loss: tensor(0.9266)\n",
      "epoch: 150 loss: tensor(0.9274)\n",
      "epoch: 151 loss: tensor(0.9262)\n",
      "epoch: 152 loss: tensor(0.9262)\n",
      "epoch: 153 loss: tensor(0.9252)\n",
      "epoch: 154 loss: tensor(0.9263)\n",
      "epoch: 155 loss: tensor(0.9251)\n",
      "epoch: 156 loss: tensor(0.9254)\n",
      "epoch: 157 loss: tensor(0.9248)\n",
      "epoch: 158 loss: tensor(0.9252)\n",
      "epoch: 159 loss: tensor(0.9247)\n",
      "epoch: 160 loss: tensor(0.9258)\n",
      "epoch: 161 loss: tensor(0.9236)\n",
      "epoch: 162 loss: tensor(0.9247)\n",
      "epoch: 163 loss: tensor(0.9234)\n",
      "epoch: 164 loss: tensor(0.9240)\n",
      "epoch: 165 loss: tensor(0.9230)\n",
      "epoch: 166 loss: tensor(0.9236)\n",
      "epoch: 167 loss: tensor(0.9216)\n",
      "epoch: 168 loss: tensor(0.9233)\n",
      "epoch: 169 loss: tensor(0.9219)\n",
      "epoch: 170 loss: tensor(0.9228)\n",
      "epoch: 171 loss: tensor(0.9217)\n",
      "epoch: 172 loss: tensor(0.9222)\n",
      "epoch: 173 loss: tensor(0.9207)\n",
      "epoch: 174 loss: tensor(0.9224)\n",
      "epoch: 175 loss: tensor(0.9204)\n",
      "epoch: 176 loss: tensor(0.9214)\n",
      "epoch: 177 loss: tensor(0.9208)\n",
      "epoch: 178 loss: tensor(0.9215)\n",
      "epoch: 179 loss: tensor(0.9204)\n",
      "epoch: 180 loss: tensor(0.9208)\n",
      "epoch: 181 loss: tensor(0.9200)\n",
      "epoch: 182 loss: tensor(0.9208)\n",
      "epoch: 183 loss: tensor(0.9197)\n",
      "epoch: 184 loss: tensor(0.9205)\n",
      "epoch: 185 loss: tensor(0.9190)\n",
      "epoch: 186 loss: tensor(0.9196)\n",
      "epoch: 187 loss: tensor(0.9184)\n",
      "epoch: 188 loss: tensor(0.9196)\n",
      "epoch: 189 loss: tensor(0.9189)\n",
      "epoch: 190 loss: tensor(0.9195)\n",
      "epoch: 191 loss: tensor(0.9181)\n",
      "epoch: 192 loss: tensor(0.9191)\n",
      "epoch: 193 loss: tensor(0.9176)\n",
      "epoch: 194 loss: tensor(0.9183)\n",
      "epoch: 195 loss: tensor(0.9175)\n",
      "epoch: 196 loss: tensor(0.9181)\n",
      "epoch: 197 loss: tensor(0.9177)\n",
      "epoch: 198 loss: tensor(0.9181)\n",
      "epoch: 199 loss: tensor(0.9169)\n",
      "epoch: 200 loss: tensor(0.9174)\n"
     ]
    }
   ],
   "source": [
    "nb_epoch = 200\n",
    "\n",
    "for epoch in range(1, nb_epoch + 1):\n",
    "    train_loss = 0\n",
    "    s = 0.\n",
    "    for id_user in range(nb_users):\n",
    "        input = Variable(training_set[id_user]).unsqueeze(0)\n",
    "        target = input.clone()\n",
    "        if torch.sum(target.data > 0) > 0:\n",
    "            output = sae(input)\n",
    "            target.require_grad = False\n",
    "            output[target == 0] = 0\n",
    "            loss = criterion( output, target )\n",
    "            mean_corrector = nb_movies / float(torch.sum(target.data > 0) + 1e-10)\n",
    "            loss.backward()\n",
    "            train_loss += np.sqrt(loss.data * mean_corrector)\n",
    "            s += 1.\n",
    "            optimizer.step()\n",
    "    \n",
    "    print( 'epoch: ' + str(epoch) + ' loss: ' + str(train_loss / s) )"
   ]
  },
  {
   "cell_type": "markdown",
   "metadata": {},
   "source": [
    "# Testing the SAE"
   ]
  },
  {
   "cell_type": "code",
   "execution_count": 24,
   "metadata": {},
   "outputs": [
    {
     "name": "stdout",
     "output_type": "stream",
     "text": [
      "test loss: tensor(0.9559)\n"
     ]
    }
   ],
   "source": [
    "test_loss = 0\n",
    "s = 0.\n",
    "for id_user in range(nb_users):\n",
    "    input = Variable(training_set[id_user]).unsqueeze(0)\n",
    "    target = Variable(test_set[id_user]).unsqueeze(0)\n",
    "    if torch.sum(target.data > 0) > 0:\n",
    "        output = sae(input)\n",
    "        target.require_grad = False\n",
    "        output[target == 0] = 0\n",
    "        loss = criterion( output, target )\n",
    "        mean_corrector = nb_movies / float(torch.sum(target.data > 0) + 1e-10)\n",
    "        test_loss += np.sqrt(loss.data * mean_corrector)\n",
    "        s += 1.\n",
    "print( \"test loss: \" + str( test_loss / s ) )"
   ]
  },
  {
   "cell_type": "code",
   "execution_count": null,
   "metadata": {},
   "outputs": [],
   "source": []
  }
 ],
 "metadata": {
  "kernelspec": {
   "display_name": "Python 3",
   "language": "python",
   "name": "python3"
  },
  "language_info": {
   "codemirror_mode": {
    "name": "ipython",
    "version": 3
   },
   "file_extension": ".py",
   "mimetype": "text/x-python",
   "name": "python",
   "nbconvert_exporter": "python",
   "pygments_lexer": "ipython3",
   "version": "3.7.4"
  }
 },
 "nbformat": 4,
 "nbformat_minor": 4
}
