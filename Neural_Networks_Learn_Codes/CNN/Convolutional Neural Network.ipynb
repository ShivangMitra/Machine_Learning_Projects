{
 "cells": [
  {
   "cell_type": "code",
   "execution_count": 1,
   "metadata": {},
   "outputs": [],
   "source": [
    "import tensorflow as tf\n",
    "from tensorflow.keras.preprocessing.image import ImageDataGenerator"
   ]
  },
  {
   "cell_type": "code",
   "execution_count": 2,
   "metadata": {
    "scrolled": true
   },
   "outputs": [
    {
     "data": {
      "text/plain": [
       "'2.6.0'"
      ]
     },
     "execution_count": 2,
     "metadata": {},
     "output_type": "execute_result"
    }
   ],
   "source": [
    "tf.__version__"
   ]
  },
  {
   "cell_type": "markdown",
   "metadata": {},
   "source": [
    "# Data Processing"
   ]
  },
  {
   "cell_type": "markdown",
   "metadata": {},
   "source": [
    "## Preprocessing the Training set"
   ]
  },
  {
   "cell_type": "code",
   "execution_count": 3,
   "metadata": {},
   "outputs": [
    {
     "name": "stdout",
     "output_type": "stream",
     "text": [
      "Found 8000 images belonging to 2 classes.\n"
     ]
    }
   ],
   "source": [
    "train_datagen = ImageDataGenerator( rescale=1./255, shear_range=0.2, zoom_range=0.2, horizontal_flip=True )\n",
    "\n",
    "train_set = train_datagen.flow_from_directory( 'dataset/training_set', target_size=(64, 64), batch_size=32, class_mode='binary' )"
   ]
  },
  {
   "cell_type": "markdown",
   "metadata": {},
   "source": [
    "## Preprocessing the Test set"
   ]
  },
  {
   "cell_type": "code",
   "execution_count": 4,
   "metadata": {},
   "outputs": [
    {
     "name": "stdout",
     "output_type": "stream",
     "text": [
      "Found 2000 images belonging to 2 classes.\n"
     ]
    }
   ],
   "source": [
    "train_datagen = ImageDataGenerator( rescale=1./255 )\n",
    "\n",
    "test_set = train_datagen.flow_from_directory( 'dataset/test_set', target_size=(64, 64), batch_size=32, class_mode='binary' )"
   ]
  },
  {
   "cell_type": "markdown",
   "metadata": {},
   "source": [
    "# Building the CNN"
   ]
  },
  {
   "cell_type": "code",
   "execution_count": 5,
   "metadata": {},
   "outputs": [],
   "source": [
    "cnn = tf.keras.models.Sequential()"
   ]
  },
  {
   "cell_type": "markdown",
   "metadata": {},
   "source": [
    "## Convolution"
   ]
  },
  {
   "cell_type": "code",
   "execution_count": 7,
   "metadata": {},
   "outputs": [],
   "source": [
    "cnn.add( tf.keras.layers.Conv2D( filters=32, kernel_size=3, activation='relu', input_shape=[64, 64, 3] ) )"
   ]
  },
  {
   "cell_type": "markdown",
   "metadata": {},
   "source": [
    "## Pooling"
   ]
  },
  {
   "cell_type": "code",
   "execution_count": 8,
   "metadata": {},
   "outputs": [],
   "source": [
    "cnn.add( tf.keras.layers.MaxPool2D( pool_size=2, strides=2 ) )"
   ]
  },
  {
   "cell_type": "markdown",
   "metadata": {},
   "source": [
    "## Adding a second convolutional layer"
   ]
  },
  {
   "cell_type": "code",
   "execution_count": 9,
   "metadata": {},
   "outputs": [],
   "source": [
    "cnn.add( tf.keras.layers.Conv2D( filters=32, kernel_size=3, activation='relu' ) )\n",
    "cnn.add( tf.keras.layers.MaxPool2D( pool_size=2, strides=2 ) )"
   ]
  },
  {
   "cell_type": "markdown",
   "metadata": {},
   "source": [
    "## Falttening"
   ]
  },
  {
   "cell_type": "code",
   "execution_count": 10,
   "metadata": {},
   "outputs": [],
   "source": [
    "cnn.add( tf.keras.layers.Flatten() )"
   ]
  },
  {
   "cell_type": "markdown",
   "metadata": {},
   "source": [
    "## Full Connection"
   ]
  },
  {
   "cell_type": "code",
   "execution_count": 11,
   "metadata": {},
   "outputs": [],
   "source": [
    "cnn.add( tf.keras.layers.Dense(units=128, activation='relu') )"
   ]
  },
  {
   "cell_type": "markdown",
   "metadata": {},
   "source": [
    "## Output Layer"
   ]
  },
  {
   "cell_type": "code",
   "execution_count": 12,
   "metadata": {},
   "outputs": [],
   "source": [
    "cnn.add( tf.keras.layers.Dense(units=1, activation='sigmoid') )"
   ]
  },
  {
   "cell_type": "markdown",
   "metadata": {},
   "source": [
    "# Training the CNN"
   ]
  },
  {
   "cell_type": "code",
   "execution_count": 13,
   "metadata": {},
   "outputs": [],
   "source": [
    "cnn.compile( optimizer='adam', loss='binary_crossentropy', metrics=['accuracy'] )"
   ]
  },
  {
   "cell_type": "markdown",
   "metadata": {},
   "source": [
    "## Training the CNN on the Training set and evaluating it on the Test set"
   ]
  },
  {
   "cell_type": "code",
   "execution_count": 14,
   "metadata": {},
   "outputs": [
    {
     "name": "stdout",
     "output_type": "stream",
     "text": [
      "Epoch 1/25\n",
      "250/250 [==============================] - 68s 270ms/step - loss: 0.6761 - accuracy: 0.5751 - val_loss: 0.6500 - val_accuracy: 0.6125\n",
      "Epoch 2/25\n",
      "250/250 [==============================] - 29s 116ms/step - loss: 0.6173 - accuracy: 0.6615 - val_loss: 0.5874 - val_accuracy: 0.6900\n",
      "Epoch 3/25\n",
      "250/250 [==============================] - 30s 120ms/step - loss: 0.5603 - accuracy: 0.7099 - val_loss: 0.5411 - val_accuracy: 0.7305\n",
      "Epoch 4/25\n",
      "250/250 [==============================] - 30s 119ms/step - loss: 0.5245 - accuracy: 0.7366 - val_loss: 0.5294 - val_accuracy: 0.7310\n",
      "Epoch 5/25\n",
      "250/250 [==============================] - 30s 119ms/step - loss: 0.5023 - accuracy: 0.7508 - val_loss: 0.5027 - val_accuracy: 0.7555\n",
      "Epoch 6/25\n",
      "250/250 [==============================] - 30s 119ms/step - loss: 0.4810 - accuracy: 0.7661 - val_loss: 0.5075 - val_accuracy: 0.7515\n",
      "Epoch 7/25\n",
      "250/250 [==============================] - 30s 119ms/step - loss: 0.4684 - accuracy: 0.7741 - val_loss: 0.4871 - val_accuracy: 0.7755\n",
      "Epoch 8/25\n",
      "250/250 [==============================] - 31s 123ms/step - loss: 0.4557 - accuracy: 0.7837 - val_loss: 0.4621 - val_accuracy: 0.7860\n",
      "Epoch 9/25\n",
      "250/250 [==============================] - 32s 127ms/step - loss: 0.4367 - accuracy: 0.7970 - val_loss: 0.4529 - val_accuracy: 0.7980\n",
      "Epoch 10/25\n",
      "250/250 [==============================] - 30s 119ms/step - loss: 0.4282 - accuracy: 0.8016 - val_loss: 0.4528 - val_accuracy: 0.7855\n",
      "Epoch 11/25\n",
      "250/250 [==============================] - 30s 120ms/step - loss: 0.4145 - accuracy: 0.8062 - val_loss: 0.4604 - val_accuracy: 0.7795\n",
      "Epoch 12/25\n",
      "250/250 [==============================] - 30s 120ms/step - loss: 0.4058 - accuracy: 0.8138 - val_loss: 0.5101 - val_accuracy: 0.7725\n",
      "Epoch 13/25\n",
      "250/250 [==============================] - 30s 120ms/step - loss: 0.3915 - accuracy: 0.8217 - val_loss: 0.5013 - val_accuracy: 0.7680\n",
      "Epoch 14/25\n",
      "250/250 [==============================] - 31s 122ms/step - loss: 0.3789 - accuracy: 0.8238 - val_loss: 0.4711 - val_accuracy: 0.7860\n",
      "Epoch 15/25\n",
      "250/250 [==============================] - 31s 124ms/step - loss: 0.3751 - accuracy: 0.8319 - val_loss: 0.4649 - val_accuracy: 0.7910\n",
      "Epoch 16/25\n",
      "250/250 [==============================] - 32s 128ms/step - loss: 0.3653 - accuracy: 0.8378 - val_loss: 0.4903 - val_accuracy: 0.7815\n",
      "Epoch 17/25\n",
      "250/250 [==============================] - 33s 132ms/step - loss: 0.3594 - accuracy: 0.8413 - val_loss: 0.4903 - val_accuracy: 0.7815\n",
      "Epoch 18/25\n",
      "250/250 [==============================] - 34s 137ms/step - loss: 0.3525 - accuracy: 0.8405 - val_loss: 0.4836 - val_accuracy: 0.7905\n",
      "Epoch 19/25\n",
      "250/250 [==============================] - 35s 140ms/step - loss: 0.3421 - accuracy: 0.8472 - val_loss: 0.4700 - val_accuracy: 0.8025\n",
      "Epoch 20/25\n",
      "250/250 [==============================] - 35s 141ms/step - loss: 0.3269 - accuracy: 0.8560 - val_loss: 0.4562 - val_accuracy: 0.8070\n",
      "Epoch 21/25\n",
      "250/250 [==============================] - 36s 146ms/step - loss: 0.3302 - accuracy: 0.8547 - val_loss: 0.4975 - val_accuracy: 0.7865\n",
      "Epoch 22/25\n",
      "250/250 [==============================] - 36s 143ms/step - loss: 0.3176 - accuracy: 0.8612 - val_loss: 0.4435 - val_accuracy: 0.8095\n",
      "Epoch 23/25\n",
      "250/250 [==============================] - 35s 141ms/step - loss: 0.2967 - accuracy: 0.8727 - val_loss: 0.4693 - val_accuracy: 0.7935\n",
      "Epoch 24/25\n",
      "250/250 [==============================] - 35s 142ms/step - loss: 0.2949 - accuracy: 0.8724 - val_loss: 0.4806 - val_accuracy: 0.7965\n",
      "Epoch 25/25\n",
      "250/250 [==============================] - 35s 141ms/step - loss: 0.2851 - accuracy: 0.8737 - val_loss: 0.4899 - val_accuracy: 0.8060\n"
     ]
    },
    {
     "data": {
      "text/plain": [
       "<keras.callbacks.History at 0x1f56e484488>"
      ]
     },
     "execution_count": 14,
     "metadata": {},
     "output_type": "execute_result"
    }
   ],
   "source": [
    "cnn.fit( x = train_set, validation_data = test_set, epochs = 25 )"
   ]
  },
  {
   "cell_type": "markdown",
   "metadata": {},
   "source": [
    "# Making a single prediction"
   ]
  },
  {
   "cell_type": "code",
   "execution_count": 18,
   "metadata": {},
   "outputs": [
    {
     "name": "stdout",
     "output_type": "stream",
     "text": [
      "dog\n"
     ]
    }
   ],
   "source": [
    "import numpy as np\n",
    "from tensorflow.keras.preprocessing import image\n",
    "\n",
    "test_image = image.load_img( 'dataset/single_prediction/cat_or_dog_1.jpg', target_size = ( 64, 64 ) )\n",
    "\n",
    "test_image = image.img_to_array( test_image )\n",
    "\n",
    "test_image = np.expand_dims( test_image, axis = 0 )\n",
    "\n",
    "result =  cnn.predict( test_image/255.0 )\n",
    "\n",
    "train_set.class_indices\n",
    "\n",
    "if result[0][0] > 0.5:\n",
    "    prediction = 'dog'\n",
    "else:\n",
    "    prediction = 'cat'\n",
    "    \n",
    "print(prediction)"
   ]
  },
  {
   "cell_type": "code",
   "execution_count": null,
   "metadata": {},
   "outputs": [],
   "source": []
  }
 ],
 "metadata": {
  "kernelspec": {
   "display_name": "Python 3",
   "language": "python",
   "name": "python3"
  },
  "language_info": {
   "codemirror_mode": {
    "name": "ipython",
    "version": 3
   },
   "file_extension": ".py",
   "mimetype": "text/x-python",
   "name": "python",
   "nbconvert_exporter": "python",
   "pygments_lexer": "ipython3",
   "version": "3.7.4"
  }
 },
 "nbformat": 4,
 "nbformat_minor": 4
}
