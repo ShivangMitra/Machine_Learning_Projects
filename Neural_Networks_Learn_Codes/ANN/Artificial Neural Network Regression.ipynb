{
 "cells": [
  {
   "cell_type": "code",
   "execution_count": 1,
   "metadata": {},
   "outputs": [],
   "source": [
    "import numpy as np\n",
    "import pandas as pd\n",
    "import tensorflow as tf"
   ]
  },
  {
   "cell_type": "code",
   "execution_count": 2,
   "metadata": {},
   "outputs": [
    {
     "data": {
      "text/plain": [
       "'2.3.1'"
      ]
     },
     "execution_count": 2,
     "metadata": {},
     "output_type": "execute_result"
    }
   ],
   "source": [
    "tf.__version__"
   ]
  },
  {
   "cell_type": "code",
   "execution_count": 3,
   "metadata": {},
   "outputs": [
    {
     "data": {
      "text/html": [
       "<div>\n",
       "<style scoped>\n",
       "    .dataframe tbody tr th:only-of-type {\n",
       "        vertical-align: middle;\n",
       "    }\n",
       "\n",
       "    .dataframe tbody tr th {\n",
       "        vertical-align: top;\n",
       "    }\n",
       "\n",
       "    .dataframe thead th {\n",
       "        text-align: right;\n",
       "    }\n",
       "</style>\n",
       "<table border=\"1\" class=\"dataframe\">\n",
       "  <thead>\n",
       "    <tr style=\"text-align: right;\">\n",
       "      <th></th>\n",
       "      <th>AT</th>\n",
       "      <th>V</th>\n",
       "      <th>AP</th>\n",
       "      <th>RH</th>\n",
       "      <th>PE</th>\n",
       "    </tr>\n",
       "  </thead>\n",
       "  <tbody>\n",
       "    <tr>\n",
       "      <th>0</th>\n",
       "      <td>14.96</td>\n",
       "      <td>41.76</td>\n",
       "      <td>1024.07</td>\n",
       "      <td>73.17</td>\n",
       "      <td>463.26</td>\n",
       "    </tr>\n",
       "    <tr>\n",
       "      <th>1</th>\n",
       "      <td>25.18</td>\n",
       "      <td>62.96</td>\n",
       "      <td>1020.04</td>\n",
       "      <td>59.08</td>\n",
       "      <td>444.37</td>\n",
       "    </tr>\n",
       "    <tr>\n",
       "      <th>2</th>\n",
       "      <td>5.11</td>\n",
       "      <td>39.40</td>\n",
       "      <td>1012.16</td>\n",
       "      <td>92.14</td>\n",
       "      <td>488.56</td>\n",
       "    </tr>\n",
       "    <tr>\n",
       "      <th>3</th>\n",
       "      <td>20.86</td>\n",
       "      <td>57.32</td>\n",
       "      <td>1010.24</td>\n",
       "      <td>76.64</td>\n",
       "      <td>446.48</td>\n",
       "    </tr>\n",
       "    <tr>\n",
       "      <th>4</th>\n",
       "      <td>10.82</td>\n",
       "      <td>37.50</td>\n",
       "      <td>1009.23</td>\n",
       "      <td>96.62</td>\n",
       "      <td>473.90</td>\n",
       "    </tr>\n",
       "  </tbody>\n",
       "</table>\n",
       "</div>"
      ],
      "text/plain": [
       "      AT      V       AP     RH      PE\n",
       "0  14.96  41.76  1024.07  73.17  463.26\n",
       "1  25.18  62.96  1020.04  59.08  444.37\n",
       "2   5.11  39.40  1012.16  92.14  488.56\n",
       "3  20.86  57.32  1010.24  76.64  446.48\n",
       "4  10.82  37.50  1009.23  96.62  473.90"
      ]
     },
     "execution_count": 3,
     "metadata": {},
     "output_type": "execute_result"
    }
   ],
   "source": [
    "data = pd.read_excel('Folds5x2_pp.xlsx')\n",
    "\n",
    "data.head()"
   ]
  },
  {
   "cell_type": "code",
   "execution_count": 4,
   "metadata": {},
   "outputs": [
    {
     "name": "stdout",
     "output_type": "stream",
     "text": [
      "[[  14.96   41.76 1024.07   73.17]\n",
      " [  25.18   62.96 1020.04   59.08]\n",
      " [   5.11   39.4  1012.16   92.14]\n",
      " ...\n",
      " [  31.32   74.33 1012.92   36.48]\n",
      " [  24.48   69.45 1013.86   62.39]\n",
      " [  21.6    62.52 1017.23   67.87]]\n",
      "[463.26 444.37 488.56 ... 429.57 435.74 453.28]\n"
     ]
    }
   ],
   "source": [
    "x = data.iloc[:, :-1].values\n",
    "y = data.iloc[:, -1].values\n",
    "\n",
    "print(x)\n",
    "print(y)"
   ]
  },
  {
   "cell_type": "code",
   "execution_count": 5,
   "metadata": {},
   "outputs": [
    {
     "name": "stdout",
     "output_type": "stream",
     "text": [
      "(9568, 4) (7654, 4) (1914, 4)\n"
     ]
    }
   ],
   "source": [
    "from sklearn.model_selection import train_test_split\n",
    "\n",
    "x_train, x_test, y_train, y_test = train_test_split( x, y, test_size = 0.2, random_state = 0 )\n",
    "\n",
    "print( x.shape, x_train.shape, x_test.shape )"
   ]
  },
  {
   "cell_type": "markdown",
   "metadata": {},
   "source": [
    "# Building the ANN"
   ]
  },
  {
   "cell_type": "code",
   "execution_count": 6,
   "metadata": {},
   "outputs": [],
   "source": [
    "ann = tf.keras.models.Sequential()"
   ]
  },
  {
   "cell_type": "code",
   "execution_count": 7,
   "metadata": {},
   "outputs": [],
   "source": [
    "ann.add( tf.keras.layers.Dense( units = 6, activation = 'relu' ) )"
   ]
  },
  {
   "cell_type": "code",
   "execution_count": 8,
   "metadata": {},
   "outputs": [],
   "source": [
    "ann.add( tf.keras.layers.Dense( units = 6, activation = 'relu' ) )"
   ]
  },
  {
   "cell_type": "code",
   "execution_count": 9,
   "metadata": {},
   "outputs": [],
   "source": [
    "ann.add( tf.keras.layers.Dense( units = 1 ) )"
   ]
  },
  {
   "cell_type": "markdown",
   "metadata": {},
   "source": [
    "# Training the ANN"
   ]
  },
  {
   "cell_type": "code",
   "execution_count": 10,
   "metadata": {},
   "outputs": [],
   "source": [
    "ann.compile( optimizer = 'adam', loss = 'mean_squared_error' )"
   ]
  },
  {
   "cell_type": "code",
   "execution_count": 11,
   "metadata": {},
   "outputs": [
    {
     "name": "stdout",
     "output_type": "stream",
     "text": [
      "Epoch 1/100\n",
      "240/240 [==============================] - 0s 801us/step - loss: 14325.6104\n",
      "Epoch 2/100\n",
      "240/240 [==============================] - 0s 749us/step - loss: 336.5507\n",
      "Epoch 3/100\n",
      "240/240 [==============================] - 0s 723us/step - loss: 325.1688\n",
      "Epoch 4/100\n",
      "240/240 [==============================] - 0s 802us/step - loss: 311.0975\n",
      "Epoch 5/100\n",
      "240/240 [==============================] - 0s 768us/step - loss: 294.5510\n",
      "Epoch 6/100\n",
      "240/240 [==============================] - 0s 767us/step - loss: 276.2861\n",
      "Epoch 7/100\n",
      "240/240 [==============================] - 0s 776us/step - loss: 256.4612\n",
      "Epoch 8/100\n",
      "240/240 [==============================] - 0s 836us/step - loss: 236.0370\n",
      "Epoch 9/100\n",
      "240/240 [==============================] - 0s 770us/step - loss: 215.4028\n",
      "Epoch 10/100\n",
      "240/240 [==============================] - 0s 780us/step - loss: 194.4859\n",
      "Epoch 11/100\n",
      "240/240 [==============================] - 0s 893us/step - loss: 174.3690\n",
      "Epoch 12/100\n",
      "240/240 [==============================] - 0s 761us/step - loss: 154.7758\n",
      "Epoch 13/100\n",
      "240/240 [==============================] - 0s 833us/step - loss: 136.8346\n",
      "Epoch 14/100\n",
      "240/240 [==============================] - 0s 757us/step - loss: 120.1919\n",
      "Epoch 15/100\n",
      "240/240 [==============================] - 0s 776us/step - loss: 105.5106\n",
      "Epoch 16/100\n",
      "240/240 [==============================] - 0s 856us/step - loss: 92.7796\n",
      "Epoch 17/100\n",
      "240/240 [==============================] - 0s 766us/step - loss: 81.7332\n",
      "Epoch 18/100\n",
      "240/240 [==============================] - 0s 826us/step - loss: 72.2769\n",
      "Epoch 19/100\n",
      "240/240 [==============================] - 0s 794us/step - loss: 63.9950\n",
      "Epoch 20/100\n",
      "240/240 [==============================] - 0s 798us/step - loss: 57.0647\n",
      "Epoch 21/100\n",
      "240/240 [==============================] - 0s 827us/step - loss: 51.6030\n",
      "Epoch 22/100\n",
      "240/240 [==============================] - 0s 788us/step - loss: 46.5395\n",
      "Epoch 23/100\n",
      "240/240 [==============================] - 0s 799us/step - loss: 42.6984\n",
      "Epoch 24/100\n",
      "240/240 [==============================] - 0s 799us/step - loss: 39.2779\n",
      "Epoch 25/100\n",
      "240/240 [==============================] - 0s 813us/step - loss: 36.6784\n",
      "Epoch 26/100\n",
      "240/240 [==============================] - 0s 845us/step - loss: 34.6522\n",
      "Epoch 27/100\n",
      "240/240 [==============================] - 0s 806us/step - loss: 33.2279\n",
      "Epoch 28/100\n",
      "240/240 [==============================] - 0s 767us/step - loss: 31.8932\n",
      "Epoch 29/100\n",
      "240/240 [==============================] - 0s 801us/step - loss: 31.1042\n",
      "Epoch 30/100\n",
      "240/240 [==============================] - 0s 827us/step - loss: 30.5016\n",
      "Epoch 31/100\n",
      "240/240 [==============================] - 0s 754us/step - loss: 30.1185\n",
      "Epoch 32/100\n",
      "240/240 [==============================] - 0s 807us/step - loss: 29.9492\n",
      "Epoch 33/100\n",
      "240/240 [==============================] - 0s 792us/step - loss: 28.9858\n",
      "Epoch 34/100\n",
      "240/240 [==============================] - 0s 783us/step - loss: 28.8637\n",
      "Epoch 35/100\n",
      "240/240 [==============================] - 0s 822us/step - loss: 28.9499\n",
      "Epoch 36/100\n",
      "240/240 [==============================] - 0s 828us/step - loss: 28.2447\n",
      "Epoch 37/100\n",
      "240/240 [==============================] - 0s 790us/step - loss: 28.1172\n",
      "Epoch 38/100\n",
      "240/240 [==============================] - 0s 798us/step - loss: 28.1573\n",
      "Epoch 39/100\n",
      "240/240 [==============================] - 0s 830us/step - loss: 27.8778\n",
      "Epoch 40/100\n",
      "240/240 [==============================] - 0s 782us/step - loss: 27.2972\n",
      "Epoch 41/100\n",
      "240/240 [==============================] - 0s 810us/step - loss: 27.6069\n",
      "Epoch 42/100\n",
      "240/240 [==============================] - 0s 832us/step - loss: 27.1788\n",
      "Epoch 43/100\n",
      "240/240 [==============================] - 0s 826us/step - loss: 27.9725\n",
      "Epoch 44/100\n",
      "240/240 [==============================] - 0s 767us/step - loss: 27.3672\n",
      "Epoch 45/100\n",
      "240/240 [==============================] - 0s 849us/step - loss: 26.9803\n",
      "Epoch 46/100\n",
      "240/240 [==============================] - 0s 799us/step - loss: 26.9826\n",
      "Epoch 47/100\n",
      "240/240 [==============================] - 0s 794us/step - loss: 26.8366\n",
      "Epoch 48/100\n",
      "240/240 [==============================] - 0s 766us/step - loss: 26.7715\n",
      "Epoch 49/100\n",
      "240/240 [==============================] - 0s 815us/step - loss: 26.4382\n",
      "Epoch 50/100\n",
      "240/240 [==============================] - 0s 782us/step - loss: 26.6119\n",
      "Epoch 51/100\n",
      "240/240 [==============================] - 0s 836us/step - loss: 27.2122\n",
      "Epoch 52/100\n",
      "240/240 [==============================] - 0s 754us/step - loss: 26.4831\n",
      "Epoch 53/100\n",
      "240/240 [==============================] - 0s 836us/step - loss: 26.7535\n",
      "Epoch 54/100\n",
      "240/240 [==============================] - 0s 766us/step - loss: 26.8613\n",
      "Epoch 55/100\n",
      "240/240 [==============================] - 0s 723us/step - loss: 26.8008\n",
      "Epoch 56/100\n",
      "240/240 [==============================] - 0s 756us/step - loss: 26.8727\n",
      "Epoch 57/100\n",
      "240/240 [==============================] - 0s 748us/step - loss: 26.3529\n",
      "Epoch 58/100\n",
      "240/240 [==============================] - 0s 799us/step - loss: 26.8244\n",
      "Epoch 59/100\n",
      "240/240 [==============================] - 0s 780us/step - loss: 27.2603\n",
      "Epoch 60/100\n",
      "240/240 [==============================] - 0s 758us/step - loss: 26.6434\n",
      "Epoch 61/100\n",
      "240/240 [==============================] - 0s 794us/step - loss: 26.7688\n",
      "Epoch 62/100\n",
      "240/240 [==============================] - 0s 811us/step - loss: 26.3281\n",
      "Epoch 63/100\n",
      "240/240 [==============================] - 0s 739us/step - loss: 26.2362\n",
      "Epoch 64/100\n",
      "240/240 [==============================] - 0s 733us/step - loss: 26.7848\n",
      "Epoch 65/100\n",
      "240/240 [==============================] - 0s 798us/step - loss: 26.7151\n",
      "Epoch 66/100\n",
      "240/240 [==============================] - 0s 739us/step - loss: 26.8200\n",
      "Epoch 67/100\n",
      "240/240 [==============================] - 0s 780us/step - loss: 26.2883\n",
      "Epoch 68/100\n",
      "240/240 [==============================] - 0s 747us/step - loss: 26.5595\n",
      "Epoch 69/100\n",
      "240/240 [==============================] - 0s 780us/step - loss: 26.3160\n",
      "Epoch 70/100\n",
      "240/240 [==============================] - 0s 743us/step - loss: 26.6293\n",
      "Epoch 71/100\n",
      "240/240 [==============================] - 0s 774us/step - loss: 26.4936\n",
      "Epoch 72/100\n",
      "240/240 [==============================] - 0s 769us/step - loss: 26.4235\n",
      "Epoch 73/100\n",
      "240/240 [==============================] - 0s 745us/step - loss: 26.3599\n",
      "Epoch 74/100\n",
      "240/240 [==============================] - 0s 759us/step - loss: 26.4977\n",
      "Epoch 75/100\n",
      "240/240 [==============================] - 0s 759us/step - loss: 26.3955\n",
      "Epoch 76/100\n",
      "240/240 [==============================] - 0s 769us/step - loss: 26.7927\n",
      "Epoch 77/100\n",
      "240/240 [==============================] - 0s 782us/step - loss: 26.4904\n",
      "Epoch 78/100\n",
      "240/240 [==============================] - 0s 743us/step - loss: 27.1493\n",
      "Epoch 79/100\n",
      "240/240 [==============================] - 0s 818us/step - loss: 26.6111\n",
      "Epoch 80/100\n",
      "240/240 [==============================] - 0s 775us/step - loss: 26.1633\n",
      "Epoch 81/100\n",
      "240/240 [==============================] - 0s 747us/step - loss: 26.8111\n",
      "Epoch 82/100\n",
      "240/240 [==============================] - 0s 778us/step - loss: 26.6461\n",
      "Epoch 83/100\n",
      "240/240 [==============================] - 0s 794us/step - loss: 26.7593\n",
      "Epoch 84/100\n",
      "240/240 [==============================] - 0s 786us/step - loss: 26.5480\n",
      "Epoch 85/100\n",
      "240/240 [==============================] - 0s 787us/step - loss: 26.6505\n",
      "Epoch 86/100\n",
      "240/240 [==============================] - 0s 772us/step - loss: 26.2630\n",
      "Epoch 87/100\n",
      "240/240 [==============================] - 0s 793us/step - loss: 26.7380\n",
      "Epoch 88/100\n",
      "240/240 [==============================] - 0s 752us/step - loss: 26.7710\n",
      "Epoch 89/100\n",
      "240/240 [==============================] - 0s 741us/step - loss: 26.4688\n",
      "Epoch 90/100\n",
      "240/240 [==============================] - 0s 772us/step - loss: 26.3765\n",
      "Epoch 91/100\n",
      "240/240 [==============================] - 0s 760us/step - loss: 26.3865\n",
      "Epoch 92/100\n",
      "240/240 [==============================] - 0s 780us/step - loss: 26.5704\n",
      "Epoch 93/100\n",
      "240/240 [==============================] - 0s 757us/step - loss: 26.5626\n",
      "Epoch 94/100\n",
      "240/240 [==============================] - 0s 746us/step - loss: 26.7302\n",
      "Epoch 95/100\n",
      "240/240 [==============================] - 0s 751us/step - loss: 26.2573\n",
      "Epoch 96/100\n"
     ]
    },
    {
     "name": "stdout",
     "output_type": "stream",
     "text": [
      "240/240 [==============================] - 0s 729us/step - loss: 26.9366\n",
      "Epoch 97/100\n",
      "240/240 [==============================] - 0s 723us/step - loss: 26.9896\n",
      "Epoch 98/100\n",
      "240/240 [==============================] - 0s 725us/step - loss: 26.5233\n",
      "Epoch 99/100\n",
      "240/240 [==============================] - 0s 754us/step - loss: 26.6628\n",
      "Epoch 100/100\n",
      "240/240 [==============================] - 0s 735us/step - loss: 26.4752\n"
     ]
    },
    {
     "data": {
      "text/plain": [
       "<tensorflow.python.keras.callbacks.History at 0x2666ccd3688>"
      ]
     },
     "execution_count": 11,
     "metadata": {},
     "output_type": "execute_result"
    }
   ],
   "source": [
    "ann.fit( x_train, y_train, batch_size = 32, epochs = 100 )"
   ]
  },
  {
   "cell_type": "markdown",
   "metadata": {},
   "source": [
    "# Predicting the results of the Test set"
   ]
  },
  {
   "cell_type": "code",
   "execution_count": 13,
   "metadata": {},
   "outputs": [
    {
     "name": "stdout",
     "output_type": "stream",
     "text": [
      "[[430.04 431.23]\n",
      " [461.03 460.01]\n",
      " [464.51 461.14]\n",
      " ...\n",
      " [471.75 473.26]\n",
      " [438.6  438.  ]\n",
      " [457.78 463.28]]\n"
     ]
    }
   ],
   "source": [
    "y_pred = ann.predict( x_test )\n",
    "\n",
    "np.set_printoptions( precision=2 )\n",
    "\n",
    "print(  np.concatenate( (y_pred.reshape(len(y_pred), 1), (y_test.reshape(len(y_test), 1))), 1 ) )"
   ]
  },
  {
   "cell_type": "code",
   "execution_count": null,
   "metadata": {},
   "outputs": [],
   "source": []
  }
 ],
 "metadata": {
  "kernelspec": {
   "display_name": "Python 3",
   "language": "python",
   "name": "python3"
  },
  "language_info": {
   "codemirror_mode": {
    "name": "ipython",
    "version": 3
   },
   "file_extension": ".py",
   "mimetype": "text/x-python",
   "name": "python",
   "nbconvert_exporter": "python",
   "pygments_lexer": "ipython3",
   "version": "3.7.4"
  }
 },
 "nbformat": 4,
 "nbformat_minor": 4
}
