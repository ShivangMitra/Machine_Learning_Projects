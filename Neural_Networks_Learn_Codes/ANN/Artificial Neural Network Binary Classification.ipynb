{
 "cells": [
  {
   "cell_type": "code",
   "execution_count": 1,
   "metadata": {},
   "outputs": [],
   "source": [
    "import numpy as np\n",
    "import pandas as pd\n",
    "import tensorflow as tf"
   ]
  },
  {
   "cell_type": "code",
   "execution_count": 2,
   "metadata": {},
   "outputs": [
    {
     "data": {
      "text/plain": [
       "'2.3.1'"
      ]
     },
     "execution_count": 2,
     "metadata": {},
     "output_type": "execute_result"
    }
   ],
   "source": [
    "tf.__version__"
   ]
  },
  {
   "cell_type": "code",
   "execution_count": 3,
   "metadata": {},
   "outputs": [
    {
     "data": {
      "text/html": [
       "<div>\n",
       "<style scoped>\n",
       "    .dataframe tbody tr th:only-of-type {\n",
       "        vertical-align: middle;\n",
       "    }\n",
       "\n",
       "    .dataframe tbody tr th {\n",
       "        vertical-align: top;\n",
       "    }\n",
       "\n",
       "    .dataframe thead th {\n",
       "        text-align: right;\n",
       "    }\n",
       "</style>\n",
       "<table border=\"1\" class=\"dataframe\">\n",
       "  <thead>\n",
       "    <tr style=\"text-align: right;\">\n",
       "      <th></th>\n",
       "      <th>RowNumber</th>\n",
       "      <th>CustomerId</th>\n",
       "      <th>Surname</th>\n",
       "      <th>CreditScore</th>\n",
       "      <th>Geography</th>\n",
       "      <th>Gender</th>\n",
       "      <th>Age</th>\n",
       "      <th>Tenure</th>\n",
       "      <th>Balance</th>\n",
       "      <th>NumOfProducts</th>\n",
       "      <th>HasCrCard</th>\n",
       "      <th>IsActiveMember</th>\n",
       "      <th>EstimatedSalary</th>\n",
       "      <th>Exited</th>\n",
       "    </tr>\n",
       "  </thead>\n",
       "  <tbody>\n",
       "    <tr>\n",
       "      <th>0</th>\n",
       "      <td>1</td>\n",
       "      <td>15634602</td>\n",
       "      <td>Hargrave</td>\n",
       "      <td>619</td>\n",
       "      <td>France</td>\n",
       "      <td>Female</td>\n",
       "      <td>42</td>\n",
       "      <td>2</td>\n",
       "      <td>0.00</td>\n",
       "      <td>1</td>\n",
       "      <td>1</td>\n",
       "      <td>1</td>\n",
       "      <td>101348.88</td>\n",
       "      <td>1</td>\n",
       "    </tr>\n",
       "    <tr>\n",
       "      <th>1</th>\n",
       "      <td>2</td>\n",
       "      <td>15647311</td>\n",
       "      <td>Hill</td>\n",
       "      <td>608</td>\n",
       "      <td>Spain</td>\n",
       "      <td>Female</td>\n",
       "      <td>41</td>\n",
       "      <td>1</td>\n",
       "      <td>83807.86</td>\n",
       "      <td>1</td>\n",
       "      <td>0</td>\n",
       "      <td>1</td>\n",
       "      <td>112542.58</td>\n",
       "      <td>0</td>\n",
       "    </tr>\n",
       "    <tr>\n",
       "      <th>2</th>\n",
       "      <td>3</td>\n",
       "      <td>15619304</td>\n",
       "      <td>Onio</td>\n",
       "      <td>502</td>\n",
       "      <td>France</td>\n",
       "      <td>Female</td>\n",
       "      <td>42</td>\n",
       "      <td>8</td>\n",
       "      <td>159660.80</td>\n",
       "      <td>3</td>\n",
       "      <td>1</td>\n",
       "      <td>0</td>\n",
       "      <td>113931.57</td>\n",
       "      <td>1</td>\n",
       "    </tr>\n",
       "    <tr>\n",
       "      <th>3</th>\n",
       "      <td>4</td>\n",
       "      <td>15701354</td>\n",
       "      <td>Boni</td>\n",
       "      <td>699</td>\n",
       "      <td>France</td>\n",
       "      <td>Female</td>\n",
       "      <td>39</td>\n",
       "      <td>1</td>\n",
       "      <td>0.00</td>\n",
       "      <td>2</td>\n",
       "      <td>0</td>\n",
       "      <td>0</td>\n",
       "      <td>93826.63</td>\n",
       "      <td>0</td>\n",
       "    </tr>\n",
       "    <tr>\n",
       "      <th>4</th>\n",
       "      <td>5</td>\n",
       "      <td>15737888</td>\n",
       "      <td>Mitchell</td>\n",
       "      <td>850</td>\n",
       "      <td>Spain</td>\n",
       "      <td>Female</td>\n",
       "      <td>43</td>\n",
       "      <td>2</td>\n",
       "      <td>125510.82</td>\n",
       "      <td>1</td>\n",
       "      <td>1</td>\n",
       "      <td>1</td>\n",
       "      <td>79084.10</td>\n",
       "      <td>0</td>\n",
       "    </tr>\n",
       "  </tbody>\n",
       "</table>\n",
       "</div>"
      ],
      "text/plain": [
       "   RowNumber  CustomerId   Surname  CreditScore Geography  Gender  Age  \\\n",
       "0          1    15634602  Hargrave          619    France  Female   42   \n",
       "1          2    15647311      Hill          608     Spain  Female   41   \n",
       "2          3    15619304      Onio          502    France  Female   42   \n",
       "3          4    15701354      Boni          699    France  Female   39   \n",
       "4          5    15737888  Mitchell          850     Spain  Female   43   \n",
       "\n",
       "   Tenure    Balance  NumOfProducts  HasCrCard  IsActiveMember  \\\n",
       "0       2       0.00              1          1               1   \n",
       "1       1   83807.86              1          0               1   \n",
       "2       8  159660.80              3          1               0   \n",
       "3       1       0.00              2          0               0   \n",
       "4       2  125510.82              1          1               1   \n",
       "\n",
       "   EstimatedSalary  Exited  \n",
       "0        101348.88       1  \n",
       "1        112542.58       0  \n",
       "2        113931.57       1  \n",
       "3         93826.63       0  \n",
       "4         79084.10       0  "
      ]
     },
     "execution_count": 3,
     "metadata": {},
     "output_type": "execute_result"
    }
   ],
   "source": [
    "data = pd.read_csv('Churn_Modelling.csv')\n",
    "x = data.iloc[:, 3:-1].values\n",
    "y = data.iloc[:, -1].values\n",
    "\n",
    "data.head()"
   ]
  },
  {
   "cell_type": "code",
   "execution_count": 4,
   "metadata": {},
   "outputs": [
    {
     "name": "stdout",
     "output_type": "stream",
     "text": [
      "[[619 'France' 'Female' ... 1 1 101348.88]\n",
      " [608 'Spain' 'Female' ... 0 1 112542.58]\n",
      " [502 'France' 'Female' ... 1 0 113931.57]\n",
      " ...\n",
      " [709 'France' 'Female' ... 0 1 42085.58]\n",
      " [772 'Germany' 'Male' ... 1 0 92888.52]\n",
      " [792 'France' 'Female' ... 1 0 38190.78]]\n",
      "[1 0 1 ... 1 1 0]\n"
     ]
    }
   ],
   "source": [
    "print(x)\n",
    "print(y)"
   ]
  },
  {
   "cell_type": "markdown",
   "metadata": {},
   "source": [
    "# Label Encoding"
   ]
  },
  {
   "cell_type": "code",
   "execution_count": 5,
   "metadata": {},
   "outputs": [
    {
     "name": "stdout",
     "output_type": "stream",
     "text": [
      "[[619 'France' 0 ... 1 1 101348.88]\n",
      " [608 'Spain' 0 ... 0 1 112542.58]\n",
      " [502 'France' 0 ... 1 0 113931.57]\n",
      " ...\n",
      " [709 'France' 0 ... 0 1 42085.58]\n",
      " [772 'Germany' 1 ... 1 0 92888.52]\n",
      " [792 'France' 0 ... 1 0 38190.78]]\n"
     ]
    }
   ],
   "source": [
    "from sklearn.preprocessing import LabelEncoder\n",
    "encoder = LabelEncoder()\n",
    "x[:, 2] = encoder.fit_transform( x[:,2] )\n",
    "\n",
    "print(x)"
   ]
  },
  {
   "cell_type": "markdown",
   "metadata": {},
   "source": [
    "## One Hot Encoding the 'Geography' column"
   ]
  },
  {
   "cell_type": "code",
   "execution_count": 8,
   "metadata": {},
   "outputs": [
    {
     "name": "stdout",
     "output_type": "stream",
     "text": [
      "[[1.0 0.0 0.0 ... 1 1 101348.88]\n",
      " [0.0 0.0 1.0 ... 0 1 112542.58]\n",
      " [1.0 0.0 0.0 ... 1 0 113931.57]\n",
      " ...\n",
      " [1.0 0.0 0.0 ... 0 1 42085.58]\n",
      " [0.0 1.0 0.0 ... 1 0 92888.52]\n",
      " [1.0 0.0 0.0 ... 1 0 38190.78]]\n"
     ]
    }
   ],
   "source": [
    "from sklearn.compose import ColumnTransformer\n",
    "from sklearn.preprocessing import OneHotEncoder\n",
    "\n",
    "column_encoder = ColumnTransformer( transformers=[ ( 'encoder', OneHotEncoder(), [1] ) ], remainder='passthrough' )\n",
    "x = np.array( column_encoder.fit_transform(x) )\n",
    "\n",
    "print(x)"
   ]
  },
  {
   "cell_type": "markdown",
   "metadata": {},
   "source": [
    "# Train Test Split"
   ]
  },
  {
   "cell_type": "code",
   "execution_count": 9,
   "metadata": {},
   "outputs": [
    {
     "name": "stdout",
     "output_type": "stream",
     "text": [
      "(10000, 12) (8000, 12) (2000, 12)\n"
     ]
    }
   ],
   "source": [
    "from sklearn.model_selection import train_test_split\n",
    "\n",
    "x_train, x_test, y_train, y_test = train_test_split( x, y, test_size=0.2, random_state = 0 )\n",
    "\n",
    "print( x.shape, x_train.shape, x_test.shape )"
   ]
  },
  {
   "cell_type": "markdown",
   "metadata": {},
   "source": [
    "# Feature Scaling"
   ]
  },
  {
   "cell_type": "code",
   "execution_count": 10,
   "metadata": {},
   "outputs": [
    {
     "name": "stdout",
     "output_type": "stream",
     "text": [
      "[[-1.01460667 -0.5698444   1.74309049 ...  0.64259497 -1.03227043\n",
      "   1.10643166]\n",
      " [-1.01460667  1.75486502 -0.57369368 ...  0.64259497  0.9687384\n",
      "  -0.74866447]\n",
      " [ 0.98560362 -0.5698444  -0.57369368 ...  0.64259497 -1.03227043\n",
      "   1.48533467]\n",
      " ...\n",
      " [ 0.98560362 -0.5698444  -0.57369368 ...  0.64259497 -1.03227043\n",
      "   1.41231994]\n",
      " [-1.01460667 -0.5698444   1.74309049 ...  0.64259497  0.9687384\n",
      "   0.84432121]\n",
      " [-1.01460667  1.75486502 -0.57369368 ...  0.64259497 -1.03227043\n",
      "   0.32472465]]\n",
      "[[-0.95692675  1.62776996 -0.57427105 ...  0.66011376  0.97628121\n",
      "   1.62185911]\n",
      " [ 1.04501206 -0.61433742 -0.57427105 ...  0.66011376 -1.02429504\n",
      "   0.504204  ]\n",
      " [-0.95692675 -0.61433742  1.74133801 ...  0.66011376  0.97628121\n",
      "  -0.41865644]\n",
      " ...\n",
      " [-0.95692675 -0.61433742  1.74133801 ...  0.66011376 -1.02429504\n",
      "   0.72775202]\n",
      " [-0.95692675  1.62776996 -0.57427105 ...  0.66011376  0.97628121\n",
      "  -1.54162886]\n",
      " [-0.95692675  1.62776996 -0.57427105 ...  0.66011376 -1.02429504\n",
      "   1.62356528]]\n"
     ]
    }
   ],
   "source": [
    "from sklearn.preprocessing import StandardScaler\n",
    "\n",
    "sc = StandardScaler()\n",
    "\n",
    "x_train = sc.fit_transform( x_train )\n",
    "x_test = sc.fit_transform( x_test )\n",
    "\n",
    "print(x_train)\n",
    "print(x_test)"
   ]
  },
  {
   "cell_type": "markdown",
   "metadata": {},
   "source": [
    "# Building the ANN"
   ]
  },
  {
   "cell_type": "code",
   "execution_count": 11,
   "metadata": {},
   "outputs": [],
   "source": [
    "ann = tf.keras.models.Sequential()"
   ]
  },
  {
   "cell_type": "markdown",
   "metadata": {},
   "source": [
    "## Adding input layer and the first hidden layer"
   ]
  },
  {
   "cell_type": "code",
   "execution_count": 12,
   "metadata": {},
   "outputs": [],
   "source": [
    "ann.add( tf.keras.layers.Dense( units=6, activation='relu' ) )"
   ]
  },
  {
   "cell_type": "markdown",
   "metadata": {},
   "source": [
    "## Adding the second hidden layer"
   ]
  },
  {
   "cell_type": "code",
   "execution_count": 13,
   "metadata": {},
   "outputs": [],
   "source": [
    "ann.add( tf.keras.layers.Dense( units=6, activation='relu' ) )"
   ]
  },
  {
   "cell_type": "markdown",
   "metadata": {},
   "source": [
    "## Adding the output layer"
   ]
  },
  {
   "cell_type": "code",
   "execution_count": 14,
   "metadata": {},
   "outputs": [],
   "source": [
    "ann.add( tf.keras.layers.Dense( units=1, activation='sigmoid' ) )"
   ]
  },
  {
   "cell_type": "markdown",
   "metadata": {},
   "source": [
    "# Training the ANN"
   ]
  },
  {
   "cell_type": "markdown",
   "metadata": {},
   "source": [
    "## Compiling the ANN"
   ]
  },
  {
   "cell_type": "code",
   "execution_count": 15,
   "metadata": {},
   "outputs": [],
   "source": [
    "ann.compile( optimizer = 'adam', loss = 'binary_crossentropy', metrics = ['accuracy'] )"
   ]
  },
  {
   "cell_type": "code",
   "execution_count": 16,
   "metadata": {},
   "outputs": [
    {
     "name": "stdout",
     "output_type": "stream",
     "text": [
      "Epoch 1/100\n",
      "250/250 [==============================] - 0s 788us/step - loss: 0.5622 - accuracy: 0.7960\n",
      "Epoch 2/100\n",
      "250/250 [==============================] - 0s 783us/step - loss: 0.5039 - accuracy: 0.7960\n",
      "Epoch 3/100\n",
      "250/250 [==============================] - 0s 825us/step - loss: 0.4765 - accuracy: 0.7960\n",
      "Epoch 4/100\n",
      "250/250 [==============================] - 0s 776us/step - loss: 0.4557 - accuracy: 0.7960\n",
      "Epoch 5/100\n",
      "250/250 [==============================] - 0s 773us/step - loss: 0.4397 - accuracy: 0.7960\n",
      "Epoch 6/100\n",
      "250/250 [==============================] - 0s 787us/step - loss: 0.4313 - accuracy: 0.7960\n",
      "Epoch 7/100\n",
      "250/250 [==============================] - 0s 809us/step - loss: 0.4274 - accuracy: 0.7987\n",
      "Epoch 8/100\n",
      "250/250 [==============================] - 0s 796us/step - loss: 0.4252 - accuracy: 0.8139\n",
      "Epoch 9/100\n",
      "250/250 [==============================] - 0s 920us/step - loss: 0.4234 - accuracy: 0.8177\n",
      "Epoch 10/100\n",
      "250/250 [==============================] - 0s 786us/step - loss: 0.4218 - accuracy: 0.8201\n",
      "Epoch 11/100\n",
      "250/250 [==============================] - 0s 849us/step - loss: 0.4199 - accuracy: 0.8211\n",
      "Epoch 12/100\n",
      "250/250 [==============================] - 0s 783us/step - loss: 0.4186 - accuracy: 0.8206\n",
      "Epoch 13/100\n",
      "250/250 [==============================] - 0s 851us/step - loss: 0.4172 - accuracy: 0.8223\n",
      "Epoch 14/100\n",
      "250/250 [==============================] - 0s 830us/step - loss: 0.4155 - accuracy: 0.8234\n",
      "Epoch 15/100\n",
      "250/250 [==============================] - 0s 793us/step - loss: 0.4140 - accuracy: 0.8240\n",
      "Epoch 16/100\n",
      "250/250 [==============================] - 0s 863us/step - loss: 0.4124 - accuracy: 0.8267\n",
      "Epoch 17/100\n",
      "250/250 [==============================] - 0s 828us/step - loss: 0.4111 - accuracy: 0.8270\n",
      "Epoch 18/100\n",
      "250/250 [==============================] - 0s 778us/step - loss: 0.4091 - accuracy: 0.8292\n",
      "Epoch 19/100\n",
      "250/250 [==============================] - 0s 765us/step - loss: 0.4074 - accuracy: 0.8294\n",
      "Epoch 20/100\n",
      "250/250 [==============================] - 0s 868us/step - loss: 0.4060 - accuracy: 0.8305\n",
      "Epoch 21/100\n",
      "250/250 [==============================] - 0s 777us/step - loss: 0.4043 - accuracy: 0.8314\n",
      "Epoch 22/100\n",
      "250/250 [==============================] - 0s 782us/step - loss: 0.4030 - accuracy: 0.8310\n",
      "Epoch 23/100\n",
      "250/250 [==============================] - 0s 811us/step - loss: 0.4018 - accuracy: 0.8330\n",
      "Epoch 24/100\n",
      "250/250 [==============================] - 0s 778us/step - loss: 0.4005 - accuracy: 0.8329\n",
      "Epoch 25/100\n",
      "250/250 [==============================] - 0s 851us/step - loss: 0.3992 - accuracy: 0.8340\n",
      "Epoch 26/100\n",
      "250/250 [==============================] - 0s 873us/step - loss: 0.3977 - accuracy: 0.8329\n",
      "Epoch 27/100\n",
      "250/250 [==============================] - 0s 847us/step - loss: 0.3959 - accuracy: 0.8342\n",
      "Epoch 28/100\n",
      "250/250 [==============================] - 0s 772us/step - loss: 0.3936 - accuracy: 0.8339\n",
      "Epoch 29/100\n",
      "250/250 [==============================] - 0s 794us/step - loss: 0.3907 - accuracy: 0.8353\n",
      "Epoch 30/100\n",
      "250/250 [==============================] - 0s 779us/step - loss: 0.3847 - accuracy: 0.8395\n",
      "Epoch 31/100\n",
      "250/250 [==============================] - 0s 834us/step - loss: 0.3780 - accuracy: 0.8444\n",
      "Epoch 32/100\n",
      "250/250 [==============================] - 0s 872us/step - loss: 0.3707 - accuracy: 0.8490\n",
      "Epoch 33/100\n",
      "250/250 [==============================] - 0s 870us/step - loss: 0.3644 - accuracy: 0.8508\n",
      "Epoch 34/100\n",
      "250/250 [==============================] - 0s 824us/step - loss: 0.3596 - accuracy: 0.8543\n",
      "Epoch 35/100\n",
      "250/250 [==============================] - 0s 794us/step - loss: 0.3567 - accuracy: 0.8572\n",
      "Epoch 36/100\n",
      "250/250 [==============================] - 0s 860us/step - loss: 0.3544 - accuracy: 0.8571\n",
      "Epoch 37/100\n",
      "250/250 [==============================] - 0s 878us/step - loss: 0.3525 - accuracy: 0.8596\n",
      "Epoch 38/100\n",
      "250/250 [==============================] - 0s 771us/step - loss: 0.3513 - accuracy: 0.8597\n",
      "Epoch 39/100\n",
      "250/250 [==============================] - 0s 793us/step - loss: 0.3503 - accuracy: 0.8604\n",
      "Epoch 40/100\n",
      "250/250 [==============================] - 0s 785us/step - loss: 0.3494 - accuracy: 0.8608\n",
      "Epoch 41/100\n",
      "250/250 [==============================] - 0s 876us/step - loss: 0.3489 - accuracy: 0.8602\n",
      "Epoch 42/100\n",
      "250/250 [==============================] - 0s 801us/step - loss: 0.3486 - accuracy: 0.8601\n",
      "Epoch 43/100\n",
      "250/250 [==============================] - 0s 802us/step - loss: 0.3477 - accuracy: 0.8614\n",
      "Epoch 44/100\n",
      "250/250 [==============================] - 0s 811us/step - loss: 0.3472 - accuracy: 0.8602\n",
      "Epoch 45/100\n",
      "250/250 [==============================] - 0s 851us/step - loss: 0.3468 - accuracy: 0.8610\n",
      "Epoch 46/100\n",
      "250/250 [==============================] - 0s 778us/step - loss: 0.3466 - accuracy: 0.8611\n",
      "Epoch 47/100\n",
      "250/250 [==============================] - 0s 860us/step - loss: 0.3459 - accuracy: 0.8604\n",
      "Epoch 48/100\n",
      "250/250 [==============================] - 0s 813us/step - loss: 0.3458 - accuracy: 0.8597\n",
      "Epoch 49/100\n",
      "250/250 [==============================] - 0s 781us/step - loss: 0.3454 - accuracy: 0.8619\n",
      "Epoch 50/100\n",
      "250/250 [==============================] - 0s 795us/step - loss: 0.3448 - accuracy: 0.8610\n",
      "Epoch 51/100\n",
      "250/250 [==============================] - 0s 808us/step - loss: 0.3449 - accuracy: 0.8619\n",
      "Epoch 52/100\n",
      "250/250 [==============================] - 0s 763us/step - loss: 0.3445 - accuracy: 0.8606\n",
      "Epoch 53/100\n",
      "250/250 [==============================] - 0s 790us/step - loss: 0.3445 - accuracy: 0.8622\n",
      "Epoch 54/100\n",
      "250/250 [==============================] - 0s 794us/step - loss: 0.3440 - accuracy: 0.8610\n",
      "Epoch 55/100\n",
      "250/250 [==============================] - 0s 772us/step - loss: 0.3440 - accuracy: 0.8621\n",
      "Epoch 56/100\n",
      "250/250 [==============================] - 0s 763us/step - loss: 0.3439 - accuracy: 0.8622\n",
      "Epoch 57/100\n",
      "250/250 [==============================] - 0s 806us/step - loss: 0.3436 - accuracy: 0.8612\n",
      "Epoch 58/100\n",
      "250/250 [==============================] - 0s 787us/step - loss: 0.3431 - accuracy: 0.8624\n",
      "Epoch 59/100\n",
      "250/250 [==============================] - 0s 787us/step - loss: 0.3430 - accuracy: 0.8614\n",
      "Epoch 60/100\n",
      "250/250 [==============================] - 0s 797us/step - loss: 0.3428 - accuracy: 0.8622\n",
      "Epoch 61/100\n",
      "250/250 [==============================] - 0s 821us/step - loss: 0.3428 - accuracy: 0.8614\n",
      "Epoch 62/100\n",
      "250/250 [==============================] - 0s 823us/step - loss: 0.3423 - accuracy: 0.8615\n",
      "Epoch 63/100\n",
      "250/250 [==============================] - 0s 803us/step - loss: 0.3424 - accuracy: 0.8612\n",
      "Epoch 64/100\n",
      "250/250 [==============================] - 0s 828us/step - loss: 0.3422 - accuracy: 0.8620\n",
      "Epoch 65/100\n",
      "250/250 [==============================] - 0s 814us/step - loss: 0.3418 - accuracy: 0.8625\n",
      "Epoch 66/100\n",
      "250/250 [==============================] - 0s 773us/step - loss: 0.3418 - accuracy: 0.8616\n",
      "Epoch 67/100\n",
      "250/250 [==============================] - 0s 778us/step - loss: 0.3413 - accuracy: 0.8619\n",
      "Epoch 68/100\n",
      "250/250 [==============================] - 0s 797us/step - loss: 0.3412 - accuracy: 0.8619\n",
      "Epoch 69/100\n",
      "250/250 [==============================] - 0s 805us/step - loss: 0.3413 - accuracy: 0.8620\n",
      "Epoch 70/100\n",
      "250/250 [==============================] - 0s 792us/step - loss: 0.3407 - accuracy: 0.8627\n",
      "Epoch 71/100\n",
      "250/250 [==============================] - 0s 830us/step - loss: 0.3407 - accuracy: 0.8614\n",
      "Epoch 72/100\n",
      "250/250 [==============================] - 0s 780us/step - loss: 0.3408 - accuracy: 0.8619\n",
      "Epoch 73/100\n",
      "250/250 [==============================] - 0s 842us/step - loss: 0.3402 - accuracy: 0.8621\n",
      "Epoch 74/100\n",
      "250/250 [==============================] - 0s 780us/step - loss: 0.3402 - accuracy: 0.8608\n",
      "Epoch 75/100\n",
      "250/250 [==============================] - 0s 786us/step - loss: 0.3400 - accuracy: 0.8629\n",
      "Epoch 76/100\n",
      "250/250 [==============================] - 0s 780us/step - loss: 0.3399 - accuracy: 0.8610\n",
      "Epoch 77/100\n",
      "250/250 [==============================] - 0s 786us/step - loss: 0.3395 - accuracy: 0.8621\n",
      "Epoch 78/100\n",
      "250/250 [==============================] - 0s 779us/step - loss: 0.3394 - accuracy: 0.86390s - loss: 0.3368 - accuracy: 0.\n",
      "Epoch 79/100\n",
      "250/250 [==============================] - 0s 845us/step - loss: 0.3400 - accuracy: 0.8629\n",
      "Epoch 80/100\n",
      "250/250 [==============================] - 0s 762us/step - loss: 0.3390 - accuracy: 0.8611\n",
      "Epoch 81/100\n",
      "250/250 [==============================] - 0s 766us/step - loss: 0.3392 - accuracy: 0.8641\n",
      "Epoch 82/100\n",
      "250/250 [==============================] - 0s 774us/step - loss: 0.3389 - accuracy: 0.8611\n",
      "Epoch 83/100\n",
      "250/250 [==============================] - 0s 756us/step - loss: 0.3388 - accuracy: 0.8629\n",
      "Epoch 84/100\n",
      "250/250 [==============================] - 0s 766us/step - loss: 0.3387 - accuracy: 0.8616\n",
      "Epoch 85/100\n",
      "250/250 [==============================] - 0s 759us/step - loss: 0.3384 - accuracy: 0.8615\n",
      "Epoch 86/100\n",
      "250/250 [==============================] - 0s 754us/step - loss: 0.3383 - accuracy: 0.8618\n",
      "Epoch 87/100\n",
      "250/250 [==============================] - 0s 769us/step - loss: 0.3383 - accuracy: 0.8616\n",
      "Epoch 88/100\n",
      "250/250 [==============================] - 0s 802us/step - loss: 0.3381 - accuracy: 0.8619\n",
      "Epoch 89/100\n",
      "250/250 [==============================] - 0s 795us/step - loss: 0.3376 - accuracy: 0.8624\n",
      "Epoch 90/100\n",
      "250/250 [==============================] - 0s 788us/step - loss: 0.3383 - accuracy: 0.8619\n",
      "Epoch 91/100\n",
      "250/250 [==============================] - 0s 808us/step - loss: 0.3379 - accuracy: 0.8627\n",
      "Epoch 92/100\n",
      "250/250 [==============================] - 0s 803us/step - loss: 0.3379 - accuracy: 0.8622\n",
      "Epoch 93/100\n",
      "250/250 [==============================] - 0s 768us/step - loss: 0.3377 - accuracy: 0.8620\n",
      "Epoch 94/100\n",
      "250/250 [==============================] - 0s 761us/step - loss: 0.3379 - accuracy: 0.8634\n",
      "Epoch 95/100\n",
      "250/250 [==============================] - 0s 805us/step - loss: 0.3378 - accuracy: 0.8600\n",
      "Epoch 96/100\n",
      "250/250 [==============================] - 0s 802us/step - loss: 0.3374 - accuracy: 0.8639\n",
      "Epoch 97/100\n",
      "250/250 [==============================] - 0s 786us/step - loss: 0.3377 - accuracy: 0.8626\n",
      "Epoch 98/100\n",
      "250/250 [==============================] - 0s 782us/step - loss: 0.3377 - accuracy: 0.8622\n",
      "Epoch 99/100\n",
      "250/250 [==============================] - 0s 779us/step - loss: 0.3377 - accuracy: 0.8614\n",
      "Epoch 100/100\n",
      "250/250 [==============================] - 0s 764us/step - loss: 0.3371 - accuracy: 0.8621\n"
     ]
    },
    {
     "data": {
      "text/plain": [
       "<tensorflow.python.keras.callbacks.History at 0x1c70f605048>"
      ]
     },
     "execution_count": 16,
     "metadata": {},
     "output_type": "execute_result"
    }
   ],
   "source": [
    "ann.fit( x_train, y_train, batch_size = 32, epochs = 100 )"
   ]
  },
  {
   "cell_type": "markdown",
   "metadata": {},
   "source": [
    "# Making the predictions and evaluating the model"
   ]
  },
  {
   "cell_type": "code",
   "execution_count": 18,
   "metadata": {},
   "outputs": [
    {
     "name": "stdout",
     "output_type": "stream",
     "text": [
      "[[False]]\n"
     ]
    }
   ],
   "source": [
    "print(ann.predict( sc.transform([[1, 0, 0, 600, 1, 40, 3, 60000, 2, 1, 1, 50000]]) ) > 0.5)"
   ]
  },
  {
   "cell_type": "markdown",
   "metadata": {},
   "source": [
    "# Predicting the Test set results"
   ]
  },
  {
   "cell_type": "code",
   "execution_count": 20,
   "metadata": {},
   "outputs": [
    {
     "name": "stdout",
     "output_type": "stream",
     "text": [
      "[[0 0]\n",
      " [0 1]\n",
      " [0 0]\n",
      " ...\n",
      " [0 0]\n",
      " [0 0]\n",
      " [0 0]]\n"
     ]
    }
   ],
   "source": [
    "x_train_predictions = ann.predict( x_test )\n",
    "\n",
    "x_train_predictions = ( x_train_predictions > 0.5 )\n",
    "\n",
    "print( np.concatenate( (x_train_predictions.reshape(len(x_train_predictions), 1), (y_test.reshape(len(y_test), 1))), 1 ) )"
   ]
  },
  {
   "cell_type": "markdown",
   "metadata": {},
   "source": [
    "# Making a Confusion Matrix"
   ]
  },
  {
   "cell_type": "code",
   "execution_count": 21,
   "metadata": {},
   "outputs": [
    {
     "name": "stdout",
     "output_type": "stream",
     "text": [
      "[[1523   72]\n",
      " [ 211  194]]\n"
     ]
    },
    {
     "data": {
      "text/plain": [
       "0.8585"
      ]
     },
     "execution_count": 21,
     "metadata": {},
     "output_type": "execute_result"
    }
   ],
   "source": [
    "from sklearn.metrics import confusion_matrix, accuracy_score\n",
    "\n",
    "cm = confusion_matrix( y_test, x_train_predictions )\n",
    "\n",
    "print(cm)\n",
    "\n",
    "accuracy_score( y_test, x_train_predictions )"
   ]
  },
  {
   "cell_type": "code",
   "execution_count": null,
   "metadata": {},
   "outputs": [],
   "source": []
  }
 ],
 "metadata": {
  "kernelspec": {
   "display_name": "Python 3",
   "language": "python",
   "name": "python3"
  },
  "language_info": {
   "codemirror_mode": {
    "name": "ipython",
    "version": 3
   },
   "file_extension": ".py",
   "mimetype": "text/x-python",
   "name": "python",
   "nbconvert_exporter": "python",
   "pygments_lexer": "ipython3",
   "version": "3.7.4"
  }
 },
 "nbformat": 4,
 "nbformat_minor": 4
}
